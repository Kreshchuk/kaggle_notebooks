{
 "cells": [
  {
   "cell_type": "code",
   "execution_count": 1,
   "id": "46b39cda",
   "metadata": {
    "_cell_guid": "b1076dfc-b9ad-4769-8c92-a6c4dae69d19",
    "_uuid": "8f2839f25d086af736a60e9eeb907d3b93b6e0e5",
    "execution": {
     "iopub.execute_input": "2023-02-14T07:21:25.121267Z",
     "iopub.status.busy": "2023-02-14T07:21:25.119675Z",
     "iopub.status.idle": "2023-02-14T07:21:25.147946Z",
     "shell.execute_reply": "2023-02-14T07:21:25.146371Z"
    },
    "papermill": {
     "duration": 0.046706,
     "end_time": "2023-02-14T07:21:25.151472",
     "exception": false,
     "start_time": "2023-02-14T07:21:25.104766",
     "status": "completed"
    },
    "tags": []
   },
   "outputs": [
    {
     "name": "stdout",
     "output_type": "stream",
     "text": [
      "/kaggle/input/most-subscribed-1000-youtube-channels/topSubscribed.csv\n"
     ]
    }
   ],
   "source": [
    "# This Python 3 environment comes with many helpful analytics libraries installed\n",
    "# It is defined by the kaggle/python Docker image: https://github.com/kaggle/docker-python\n",
    "# For example, here's several helpful packages to load\n",
    "\n",
    "import numpy as np # linear algebra\n",
    "import pandas as pd # data processing, CSV file I/O (e.g. pd.read_csv)\n",
    "\n",
    "# Input data files are available in the read-only \"../input/\" directory\n",
    "# For example, running this (by clicking run or pressing Shift+Enter) will list all files under the input directory\n",
    "\n",
    "import os\n",
    "for dirname, _, filenames in os.walk('/kaggle/input'):\n",
    "    for filename in filenames:\n",
    "        print(os.path.join(dirname, filename))\n",
    "\n",
    "# You can write up to 20GB to the current directory (/kaggle/working/) that gets preserved as output when you create a version using \"Save & Run All\" \n",
    "# You can also write temporary files to /kaggle/temp/, but they won't be saved outside of the current session"
   ]
  },
  {
   "cell_type": "code",
   "execution_count": 2,
   "id": "0609741f",
   "metadata": {
    "execution": {
     "iopub.execute_input": "2023-02-14T07:21:25.171623Z",
     "iopub.status.busy": "2023-02-14T07:21:25.170732Z",
     "iopub.status.idle": "2023-02-14T07:21:26.364983Z",
     "shell.execute_reply": "2023-02-14T07:21:26.363769Z"
    },
    "papermill": {
     "duration": 1.206233,
     "end_time": "2023-02-14T07:21:26.368094",
     "exception": false,
     "start_time": "2023-02-14T07:21:25.161861",
     "status": "completed"
    },
    "tags": []
   },
   "outputs": [],
   "source": [
    "import seaborn as sns \n",
    "import matplotlib.pyplot as plt\n",
    "%matplotlib inline"
   ]
  },
  {
   "cell_type": "markdown",
   "id": "601e0198",
   "metadata": {
    "papermill": {
     "duration": 0.007212,
     "end_time": "2023-02-14T07:21:26.383211",
     "exception": false,
     "start_time": "2023-02-14T07:21:26.375999",
     "status": "completed"
    },
    "tags": []
   },
   "source": [
    "# First look"
   ]
  },
  {
   "cell_type": "code",
   "execution_count": 3,
   "id": "2f0ab1a9",
   "metadata": {
    "execution": {
     "iopub.execute_input": "2023-02-14T07:21:26.400117Z",
     "iopub.status.busy": "2023-02-14T07:21:26.399697Z",
     "iopub.status.idle": "2023-02-14T07:21:26.421842Z",
     "shell.execute_reply": "2023-02-14T07:21:26.420738Z"
    },
    "papermill": {
     "duration": 0.033692,
     "end_time": "2023-02-14T07:21:26.424471",
     "exception": false,
     "start_time": "2023-02-14T07:21:26.390779",
     "status": "completed"
    },
    "tags": []
   },
   "outputs": [],
   "source": [
    "df = pd.read_csv('/kaggle/input/most-subscribed-1000-youtube-channels/topSubscribed.csv')"
   ]
  },
  {
   "cell_type": "code",
   "execution_count": 4,
   "id": "c864d7c6",
   "metadata": {
    "execution": {
     "iopub.execute_input": "2023-02-14T07:21:26.443570Z",
     "iopub.status.busy": "2023-02-14T07:21:26.443125Z",
     "iopub.status.idle": "2023-02-14T07:21:26.468169Z",
     "shell.execute_reply": "2023-02-14T07:21:26.466796Z"
    },
    "papermill": {
     "duration": 0.03779,
     "end_time": "2023-02-14T07:21:26.470959",
     "exception": false,
     "start_time": "2023-02-14T07:21:26.433169",
     "status": "completed"
    },
    "tags": []
   },
   "outputs": [
    {
     "data": {
      "text/html": [
       "<div>\n",
       "<style scoped>\n",
       "    .dataframe tbody tr th:only-of-type {\n",
       "        vertical-align: middle;\n",
       "    }\n",
       "\n",
       "    .dataframe tbody tr th {\n",
       "        vertical-align: top;\n",
       "    }\n",
       "\n",
       "    .dataframe thead th {\n",
       "        text-align: right;\n",
       "    }\n",
       "</style>\n",
       "<table border=\"1\" class=\"dataframe\">\n",
       "  <thead>\n",
       "    <tr style=\"text-align: right;\">\n",
       "      <th></th>\n",
       "      <th>Rank</th>\n",
       "      <th>Youtube Channel</th>\n",
       "      <th>Subscribers</th>\n",
       "      <th>Video Views</th>\n",
       "      <th>Video Count</th>\n",
       "      <th>Category</th>\n",
       "      <th>Started</th>\n",
       "    </tr>\n",
       "  </thead>\n",
       "  <tbody>\n",
       "    <tr>\n",
       "      <th>0</th>\n",
       "      <td>1</td>\n",
       "      <td>T-Series</td>\n",
       "      <td>234,000,000</td>\n",
       "      <td>212,900,271,553</td>\n",
       "      <td>18,515</td>\n",
       "      <td>Music</td>\n",
       "      <td>2006</td>\n",
       "    </tr>\n",
       "    <tr>\n",
       "      <th>1</th>\n",
       "      <td>2</td>\n",
       "      <td>YouTube Movies</td>\n",
       "      <td>161,000,000</td>\n",
       "      <td>0</td>\n",
       "      <td>0</td>\n",
       "      <td>Film &amp; Animation</td>\n",
       "      <td>2015</td>\n",
       "    </tr>\n",
       "    <tr>\n",
       "      <th>2</th>\n",
       "      <td>3</td>\n",
       "      <td>Cocomelon - Nursery Rhymes</td>\n",
       "      <td>152,000,000</td>\n",
       "      <td>149,084,178,448</td>\n",
       "      <td>846</td>\n",
       "      <td>Education</td>\n",
       "      <td>2006</td>\n",
       "    </tr>\n",
       "    <tr>\n",
       "      <th>3</th>\n",
       "      <td>4</td>\n",
       "      <td>SET India</td>\n",
       "      <td>150,000,000</td>\n",
       "      <td>137,828,094,104</td>\n",
       "      <td>103,200</td>\n",
       "      <td>Shows</td>\n",
       "      <td>2006</td>\n",
       "    </tr>\n",
       "    <tr>\n",
       "      <th>4</th>\n",
       "      <td>5</td>\n",
       "      <td>MrBeast</td>\n",
       "      <td>128,000,000</td>\n",
       "      <td>21,549,128,785</td>\n",
       "      <td>733</td>\n",
       "      <td>Entertainment</td>\n",
       "      <td>2012</td>\n",
       "    </tr>\n",
       "  </tbody>\n",
       "</table>\n",
       "</div>"
      ],
      "text/plain": [
       "   Rank             Youtube Channel  Subscribers      Video Views Video Count  \\\n",
       "0     1                    T-Series  234,000,000  212,900,271,553      18,515   \n",
       "1     2              YouTube Movies  161,000,000                0           0   \n",
       "2     3  Cocomelon - Nursery Rhymes  152,000,000  149,084,178,448         846   \n",
       "3     4                   SET India  150,000,000  137,828,094,104     103,200   \n",
       "4     5                     MrBeast  128,000,000   21,549,128,785         733   \n",
       "\n",
       "           Category  Started  \n",
       "0             Music     2006  \n",
       "1  Film & Animation     2015  \n",
       "2         Education     2006  \n",
       "3             Shows     2006  \n",
       "4     Entertainment     2012  "
      ]
     },
     "execution_count": 4,
     "metadata": {},
     "output_type": "execute_result"
    }
   ],
   "source": [
    "df.head()"
   ]
  },
  {
   "cell_type": "code",
   "execution_count": 5,
   "id": "87b4953d",
   "metadata": {
    "execution": {
     "iopub.execute_input": "2023-02-14T07:21:26.488582Z",
     "iopub.status.busy": "2023-02-14T07:21:26.488175Z",
     "iopub.status.idle": "2023-02-14T07:21:26.516082Z",
     "shell.execute_reply": "2023-02-14T07:21:26.514337Z"
    },
    "papermill": {
     "duration": 0.039568,
     "end_time": "2023-02-14T07:21:26.518667",
     "exception": false,
     "start_time": "2023-02-14T07:21:26.479099",
     "status": "completed"
    },
    "tags": []
   },
   "outputs": [
    {
     "name": "stdout",
     "output_type": "stream",
     "text": [
      "<class 'pandas.core.frame.DataFrame'>\n",
      "RangeIndex: 1000 entries, 0 to 999\n",
      "Data columns (total 7 columns):\n",
      " #   Column           Non-Null Count  Dtype \n",
      "---  ------           --------------  ----- \n",
      " 0   Rank             1000 non-null   int64 \n",
      " 1   Youtube Channel  1000 non-null   object\n",
      " 2   Subscribers      1000 non-null   object\n",
      " 3   Video Views      1000 non-null   object\n",
      " 4   Video Count      1000 non-null   object\n",
      " 5   Category         1000 non-null   object\n",
      " 6   Started          1000 non-null   int64 \n",
      "dtypes: int64(2), object(5)\n",
      "memory usage: 54.8+ KB\n"
     ]
    }
   ],
   "source": [
    "df.info()"
   ]
  },
  {
   "cell_type": "code",
   "execution_count": 6,
   "id": "8fe7aafb",
   "metadata": {
    "execution": {
     "iopub.execute_input": "2023-02-14T07:21:26.536597Z",
     "iopub.status.busy": "2023-02-14T07:21:26.535900Z",
     "iopub.status.idle": "2023-02-14T07:21:26.542611Z",
     "shell.execute_reply": "2023-02-14T07:21:26.540952Z"
    },
    "papermill": {
     "duration": 0.018222,
     "end_time": "2023-02-14T07:21:26.544848",
     "exception": false,
     "start_time": "2023-02-14T07:21:26.526626",
     "status": "completed"
    },
    "tags": []
   },
   "outputs": [
    {
     "name": "stdout",
     "output_type": "stream",
     "text": [
      "We have 1000 rows and 7 colums in dataset.\n"
     ]
    }
   ],
   "source": [
    "print(f'We have {df.shape[0]} rows and {df.shape[1]} colums in dataset.')"
   ]
  },
  {
   "cell_type": "markdown",
   "id": "5f398c3e",
   "metadata": {
    "papermill": {
     "duration": 0.007458,
     "end_time": "2023-02-14T07:21:26.561273",
     "exception": false,
     "start_time": "2023-02-14T07:21:26.553815",
     "status": "completed"
    },
    "tags": []
   },
   "source": [
    "# Data preparation"
   ]
  },
  {
   "cell_type": "code",
   "execution_count": 7,
   "id": "0fe5931a",
   "metadata": {
    "execution": {
     "iopub.execute_input": "2023-02-14T07:21:26.579328Z",
     "iopub.status.busy": "2023-02-14T07:21:26.578906Z",
     "iopub.status.idle": "2023-02-14T07:21:26.588021Z",
     "shell.execute_reply": "2023-02-14T07:21:26.586927Z"
    },
    "papermill": {
     "duration": 0.021039,
     "end_time": "2023-02-14T07:21:26.590416",
     "exception": false,
     "start_time": "2023-02-14T07:21:26.569377",
     "status": "completed"
    },
    "tags": []
   },
   "outputs": [],
   "source": [
    "list = ['Subscribers', 'Video Views', 'Video Count']\n",
    "for i in list:\n",
    "    df[i] = df[i].str.replace(',', '')"
   ]
  },
  {
   "cell_type": "code",
   "execution_count": 8,
   "id": "91b5127d",
   "metadata": {
    "execution": {
     "iopub.execute_input": "2023-02-14T07:21:26.608457Z",
     "iopub.status.busy": "2023-02-14T07:21:26.608012Z",
     "iopub.status.idle": "2023-02-14T07:21:26.616413Z",
     "shell.execute_reply": "2023-02-14T07:21:26.615127Z"
    },
    "papermill": {
     "duration": 0.020558,
     "end_time": "2023-02-14T07:21:26.618900",
     "exception": false,
     "start_time": "2023-02-14T07:21:26.598342",
     "status": "completed"
    },
    "tags": []
   },
   "outputs": [],
   "source": [
    "for i in list:\n",
    "    df[i] = df[i].astype('int64')"
   ]
  },
  {
   "cell_type": "code",
   "execution_count": 9,
   "id": "ef5e938d",
   "metadata": {
    "execution": {
     "iopub.execute_input": "2023-02-14T07:21:26.636579Z",
     "iopub.status.busy": "2023-02-14T07:21:26.636158Z",
     "iopub.status.idle": "2023-02-14T07:21:26.647228Z",
     "shell.execute_reply": "2023-02-14T07:21:26.646167Z"
    },
    "papermill": {
     "duration": 0.022829,
     "end_time": "2023-02-14T07:21:26.649629",
     "exception": false,
     "start_time": "2023-02-14T07:21:26.626800",
     "status": "completed"
    },
    "tags": []
   },
   "outputs": [
    {
     "data": {
      "text/plain": [
       "Rank               0.0\n",
       "Youtube Channel    0.0\n",
       "Subscribers        0.0\n",
       "Video Views        0.0\n",
       "Video Count        0.0\n",
       "Category           0.0\n",
       "Started            0.0\n",
       "dtype: float64"
      ]
     },
     "execution_count": 9,
     "metadata": {},
     "output_type": "execute_result"
    }
   ],
   "source": [
    "df.isna().sum() / len(df)"
   ]
  },
  {
   "cell_type": "code",
   "execution_count": 10,
   "id": "434f6fb3",
   "metadata": {
    "execution": {
     "iopub.execute_input": "2023-02-14T07:21:26.668297Z",
     "iopub.status.busy": "2023-02-14T07:21:26.667006Z",
     "iopub.status.idle": "2023-02-14T07:21:26.697377Z",
     "shell.execute_reply": "2023-02-14T07:21:26.696031Z"
    },
    "papermill": {
     "duration": 0.042379,
     "end_time": "2023-02-14T07:21:26.700143",
     "exception": false,
     "start_time": "2023-02-14T07:21:26.657764",
     "status": "completed"
    },
    "tags": []
   },
   "outputs": [
    {
     "data": {
      "text/html": [
       "<div>\n",
       "<style scoped>\n",
       "    .dataframe tbody tr th:only-of-type {\n",
       "        vertical-align: middle;\n",
       "    }\n",
       "\n",
       "    .dataframe tbody tr th {\n",
       "        vertical-align: top;\n",
       "    }\n",
       "\n",
       "    .dataframe thead th {\n",
       "        text-align: right;\n",
       "    }\n",
       "</style>\n",
       "<table border=\"1\" class=\"dataframe\">\n",
       "  <thead>\n",
       "    <tr style=\"text-align: right;\">\n",
       "      <th></th>\n",
       "      <th>Rank</th>\n",
       "      <th>Subscribers</th>\n",
       "      <th>Video Views</th>\n",
       "      <th>Video Count</th>\n",
       "      <th>Started</th>\n",
       "    </tr>\n",
       "  </thead>\n",
       "  <tbody>\n",
       "    <tr>\n",
       "      <th>count</th>\n",
       "      <td>1000.000000</td>\n",
       "      <td>1.000000e+03</td>\n",
       "      <td>1.000000e+03</td>\n",
       "      <td>1000.000000</td>\n",
       "      <td>1000.000000</td>\n",
       "    </tr>\n",
       "    <tr>\n",
       "      <th>mean</th>\n",
       "      <td>500.500000</td>\n",
       "      <td>2.158140e+07</td>\n",
       "      <td>9.994912e+09</td>\n",
       "      <td>9416.228000</td>\n",
       "      <td>2012.594000</td>\n",
       "    </tr>\n",
       "    <tr>\n",
       "      <th>std</th>\n",
       "      <td>288.819436</td>\n",
       "      <td>1.662556e+07</td>\n",
       "      <td>1.300546e+10</td>\n",
       "      <td>32190.909114</td>\n",
       "      <td>4.110238</td>\n",
       "    </tr>\n",
       "    <tr>\n",
       "      <th>min</th>\n",
       "      <td>1.000000</td>\n",
       "      <td>1.140000e+07</td>\n",
       "      <td>0.000000e+00</td>\n",
       "      <td>0.000000</td>\n",
       "      <td>1970.000000</td>\n",
       "    </tr>\n",
       "    <tr>\n",
       "      <th>25%</th>\n",
       "      <td>250.750000</td>\n",
       "      <td>1.340000e+07</td>\n",
       "      <td>3.871470e+09</td>\n",
       "      <td>365.500000</td>\n",
       "      <td>2010.000000</td>\n",
       "    </tr>\n",
       "    <tr>\n",
       "      <th>50%</th>\n",
       "      <td>500.500000</td>\n",
       "      <td>1.660000e+07</td>\n",
       "      <td>6.723360e+09</td>\n",
       "      <td>896.000000</td>\n",
       "      <td>2013.000000</td>\n",
       "    </tr>\n",
       "    <tr>\n",
       "      <th>75%</th>\n",
       "      <td>750.250000</td>\n",
       "      <td>2.320000e+07</td>\n",
       "      <td>1.223052e+10</td>\n",
       "      <td>3277.250000</td>\n",
       "      <td>2015.000000</td>\n",
       "    </tr>\n",
       "    <tr>\n",
       "      <th>max</th>\n",
       "      <td>1000.000000</td>\n",
       "      <td>2.340000e+08</td>\n",
       "      <td>2.129003e+11</td>\n",
       "      <td>342802.000000</td>\n",
       "      <td>2021.000000</td>\n",
       "    </tr>\n",
       "  </tbody>\n",
       "</table>\n",
       "</div>"
      ],
      "text/plain": [
       "              Rank   Subscribers   Video Views    Video Count      Started\n",
       "count  1000.000000  1.000000e+03  1.000000e+03    1000.000000  1000.000000\n",
       "mean    500.500000  2.158140e+07  9.994912e+09    9416.228000  2012.594000\n",
       "std     288.819436  1.662556e+07  1.300546e+10   32190.909114     4.110238\n",
       "min       1.000000  1.140000e+07  0.000000e+00       0.000000  1970.000000\n",
       "25%     250.750000  1.340000e+07  3.871470e+09     365.500000  2010.000000\n",
       "50%     500.500000  1.660000e+07  6.723360e+09     896.000000  2013.000000\n",
       "75%     750.250000  2.320000e+07  1.223052e+10    3277.250000  2015.000000\n",
       "max    1000.000000  2.340000e+08  2.129003e+11  342802.000000  2021.000000"
      ]
     },
     "execution_count": 10,
     "metadata": {},
     "output_type": "execute_result"
    }
   ],
   "source": [
    "df.describe()"
   ]
  },
  {
   "cell_type": "code",
   "execution_count": 11,
   "id": "a4d9c4b5",
   "metadata": {
    "execution": {
     "iopub.execute_input": "2023-02-14T07:21:26.718642Z",
     "iopub.status.busy": "2023-02-14T07:21:26.718195Z",
     "iopub.status.idle": "2023-02-14T07:21:26.724812Z",
     "shell.execute_reply": "2023-02-14T07:21:26.723577Z"
    },
    "papermill": {
     "duration": 0.01885,
     "end_time": "2023-02-14T07:21:26.727131",
     "exception": false,
     "start_time": "2023-02-14T07:21:26.708281",
     "status": "completed"
    },
    "tags": []
   },
   "outputs": [],
   "source": [
    "df = df[df['Video Views'] != 0]"
   ]
  },
  {
   "cell_type": "code",
   "execution_count": 12,
   "id": "d461647b",
   "metadata": {
    "execution": {
     "iopub.execute_input": "2023-02-14T07:21:26.745611Z",
     "iopub.status.busy": "2023-02-14T07:21:26.745184Z",
     "iopub.status.idle": "2023-02-14T07:21:26.753069Z",
     "shell.execute_reply": "2023-02-14T07:21:26.751989Z"
    },
    "papermill": {
     "duration": 0.019926,
     "end_time": "2023-02-14T07:21:26.755450",
     "exception": false,
     "start_time": "2023-02-14T07:21:26.735524",
     "status": "completed"
    },
    "tags": []
   },
   "outputs": [
    {
     "data": {
      "text/plain": [
       "array(['Music', 'Education', 'Shows', 'Entertainment', 'Gaming',\n",
       "       'People & Blogs', 'Sports', 'Film & Animation', 'Howto & Style',\n",
       "       'News & Politics', 'Comedy', 'Trailers', 'Nonprofits & Activism',\n",
       "       'https://us.youtubers.me/global/all/top-1000-most_subscribed-youtube-channels',\n",
       "       'Science & Technology', 'Movies', 'Pets & Animals',\n",
       "       'Autos & Vehicles', 'Travel & Events'], dtype=object)"
      ]
     },
     "execution_count": 12,
     "metadata": {},
     "output_type": "execute_result"
    }
   ],
   "source": [
    "df['Category'].unique()"
   ]
  },
  {
   "cell_type": "code",
   "execution_count": 13,
   "id": "2b84eb8a",
   "metadata": {
    "execution": {
     "iopub.execute_input": "2023-02-14T07:21:26.775322Z",
     "iopub.status.busy": "2023-02-14T07:21:26.774877Z",
     "iopub.status.idle": "2023-02-14T07:21:26.789547Z",
     "shell.execute_reply": "2023-02-14T07:21:26.788459Z"
    },
    "papermill": {
     "duration": 0.027947,
     "end_time": "2023-02-14T07:21:26.792151",
     "exception": false,
     "start_time": "2023-02-14T07:21:26.764204",
     "status": "completed"
    },
    "tags": []
   },
   "outputs": [
    {
     "data": {
      "text/html": [
       "<div>\n",
       "<style scoped>\n",
       "    .dataframe tbody tr th:only-of-type {\n",
       "        vertical-align: middle;\n",
       "    }\n",
       "\n",
       "    .dataframe tbody tr th {\n",
       "        vertical-align: top;\n",
       "    }\n",
       "\n",
       "    .dataframe thead th {\n",
       "        text-align: right;\n",
       "    }\n",
       "</style>\n",
       "<table border=\"1\" class=\"dataframe\">\n",
       "  <thead>\n",
       "    <tr style=\"text-align: right;\">\n",
       "      <th></th>\n",
       "      <th>Rank</th>\n",
       "      <th>Youtube Channel</th>\n",
       "      <th>Subscribers</th>\n",
       "      <th>Video Views</th>\n",
       "      <th>Video Count</th>\n",
       "      <th>Category</th>\n",
       "      <th>Started</th>\n",
       "    </tr>\n",
       "  </thead>\n",
       "  <tbody>\n",
       "    <tr>\n",
       "      <th>106</th>\n",
       "      <td>107</td>\n",
       "      <td>Vlad và Niki</td>\n",
       "      <td>33900000</td>\n",
       "      <td>21008932630</td>\n",
       "      <td>457</td>\n",
       "      <td>https://us.youtubers.me/global/all/top-1000-mo...</td>\n",
       "      <td>2018</td>\n",
       "    </tr>\n",
       "    <tr>\n",
       "      <th>166</th>\n",
       "      <td>167</td>\n",
       "      <td>व्लाद और निकिता</td>\n",
       "      <td>28700000</td>\n",
       "      <td>17107973877</td>\n",
       "      <td>478</td>\n",
       "      <td>https://us.youtubers.me/global/all/top-1000-mo...</td>\n",
       "      <td>2018</td>\n",
       "    </tr>\n",
       "    <tr>\n",
       "      <th>219</th>\n",
       "      <td>220</td>\n",
       "      <td>Super JoJo - Nursery Rhymes &amp; Kids Songs</td>\n",
       "      <td>24400000</td>\n",
       "      <td>1459730</td>\n",
       "      <td>8</td>\n",
       "      <td>https://us.youtubers.me/global/all/top-1000-mo...</td>\n",
       "      <td>2019</td>\n",
       "    </tr>\n",
       "    <tr>\n",
       "      <th>220</th>\n",
       "      <td>221</td>\n",
       "      <td>D Billions</td>\n",
       "      <td>24400000</td>\n",
       "      <td>27800456761</td>\n",
       "      <td>590</td>\n",
       "      <td>https://us.youtubers.me/global/all/top-1000-mo...</td>\n",
       "      <td>2019</td>\n",
       "    </tr>\n",
       "    <tr>\n",
       "      <th>254</th>\n",
       "      <td>255</td>\n",
       "      <td>Diana and Roma ARA</td>\n",
       "      <td>23000000</td>\n",
       "      <td>10504290129</td>\n",
       "      <td>544</td>\n",
       "      <td>https://us.youtubers.me/global/all/top-1000-mo...</td>\n",
       "      <td>2019</td>\n",
       "    </tr>\n",
       "  </tbody>\n",
       "</table>\n",
       "</div>"
      ],
      "text/plain": [
       "     Rank                           Youtube Channel  Subscribers  Video Views  \\\n",
       "106   107                              Vlad và Niki     33900000  21008932630   \n",
       "166   167                           व्लाद और निकिता     28700000  17107973877   \n",
       "219   220  Super JoJo - Nursery Rhymes & Kids Songs     24400000      1459730   \n",
       "220   221                                D Billions     24400000  27800456761   \n",
       "254   255                        Diana and Roma ARA     23000000  10504290129   \n",
       "\n",
       "     Video Count                                           Category  Started  \n",
       "106          457  https://us.youtubers.me/global/all/top-1000-mo...     2018  \n",
       "166          478  https://us.youtubers.me/global/all/top-1000-mo...     2018  \n",
       "219            8  https://us.youtubers.me/global/all/top-1000-mo...     2019  \n",
       "220          590  https://us.youtubers.me/global/all/top-1000-mo...     2019  \n",
       "254          544  https://us.youtubers.me/global/all/top-1000-mo...     2019  "
      ]
     },
     "execution_count": 13,
     "metadata": {},
     "output_type": "execute_result"
    }
   ],
   "source": [
    "df[df['Category'] =='https://us.youtubers.me/global/all/top-1000-most_subscribed-youtube-channels'].head()"
   ]
  },
  {
   "cell_type": "code",
   "execution_count": 14,
   "id": "b8dd3d18",
   "metadata": {
    "execution": {
     "iopub.execute_input": "2023-02-14T07:21:26.813290Z",
     "iopub.status.busy": "2023-02-14T07:21:26.812174Z",
     "iopub.status.idle": "2023-02-14T07:21:26.818881Z",
     "shell.execute_reply": "2023-02-14T07:21:26.817777Z"
    },
    "papermill": {
     "duration": 0.020006,
     "end_time": "2023-02-14T07:21:26.821320",
     "exception": false,
     "start_time": "2023-02-14T07:21:26.801314",
     "status": "completed"
    },
    "tags": []
   },
   "outputs": [],
   "source": [
    "df['Category'] = df['Category'].replace('https://us.youtubers.me/global/all/top-1000-most_subscribed-youtube-channels', 'Other')"
   ]
  },
  {
   "cell_type": "code",
   "execution_count": 15,
   "id": "19fc8911",
   "metadata": {
    "execution": {
     "iopub.execute_input": "2023-02-14T07:21:26.841809Z",
     "iopub.status.busy": "2023-02-14T07:21:26.840971Z",
     "iopub.status.idle": "2023-02-14T07:21:26.848354Z",
     "shell.execute_reply": "2023-02-14T07:21:26.847031Z"
    },
    "papermill": {
     "duration": 0.020561,
     "end_time": "2023-02-14T07:21:26.850962",
     "exception": false,
     "start_time": "2023-02-14T07:21:26.830401",
     "status": "completed"
    },
    "tags": []
   },
   "outputs": [],
   "source": [
    "df['Views_per_video'] = round(df['Video Views'] / df['Video Count'])"
   ]
  },
  {
   "cell_type": "code",
   "execution_count": 16,
   "id": "327448e6",
   "metadata": {
    "execution": {
     "iopub.execute_input": "2023-02-14T07:21:26.870822Z",
     "iopub.status.busy": "2023-02-14T07:21:26.870002Z",
     "iopub.status.idle": "2023-02-14T07:21:26.877561Z",
     "shell.execute_reply": "2023-02-14T07:21:26.876760Z"
    },
    "papermill": {
     "duration": 0.019833,
     "end_time": "2023-02-14T07:21:26.879675",
     "exception": false,
     "start_time": "2023-02-14T07:21:26.859842",
     "status": "completed"
    },
    "tags": []
   },
   "outputs": [
    {
     "data": {
      "text/plain": [
       "array(['Music', 'Education', 'Shows', 'Entertainment', 'Gaming',\n",
       "       'People & Blogs', 'Sports', 'Film & Animation', 'Howto & Style',\n",
       "       'News & Politics', 'Comedy', 'Trailers', 'Nonprofits & Activism',\n",
       "       'Other', 'Science & Technology', 'Movies', 'Pets & Animals',\n",
       "       'Autos & Vehicles', 'Travel & Events'], dtype=object)"
      ]
     },
     "execution_count": 16,
     "metadata": {},
     "output_type": "execute_result"
    }
   ],
   "source": [
    "df['Category'].unique()"
   ]
  },
  {
   "cell_type": "markdown",
   "id": "06d84d7f",
   "metadata": {
    "papermill": {
     "duration": 0.008354,
     "end_time": "2023-02-14T07:21:26.896636",
     "exception": false,
     "start_time": "2023-02-14T07:21:26.888282",
     "status": "completed"
    },
    "tags": []
   },
   "source": [
    "# EDA"
   ]
  },
  {
   "cell_type": "code",
   "execution_count": 17,
   "id": "63be8740",
   "metadata": {
    "execution": {
     "iopub.execute_input": "2023-02-14T07:21:26.916285Z",
     "iopub.status.busy": "2023-02-14T07:21:26.915641Z",
     "iopub.status.idle": "2023-02-14T07:21:26.930952Z",
     "shell.execute_reply": "2023-02-14T07:21:26.929682Z"
    },
    "papermill": {
     "duration": 0.028621,
     "end_time": "2023-02-14T07:21:26.933984",
     "exception": false,
     "start_time": "2023-02-14T07:21:26.905363",
     "status": "completed"
    },
    "tags": []
   },
   "outputs": [],
   "source": [
    "df_grouped = df.groupby('Category', as_index=False)\\\n",
    "[['Subscribers', 'Video Views', 'Video Count', 'Views_per_video']]\\\n",
    ".mean()"
   ]
  },
  {
   "cell_type": "markdown",
   "id": "6c200aad",
   "metadata": {
    "papermill": {
     "duration": 0.008451,
     "end_time": "2023-02-14T07:21:26.951145",
     "exception": false,
     "start_time": "2023-02-14T07:21:26.942694",
     "status": "completed"
    },
    "tags": []
   },
   "source": [
    "## Number of subscribers"
   ]
  },
  {
   "cell_type": "code",
   "execution_count": 18,
   "id": "5d675a11",
   "metadata": {
    "execution": {
     "iopub.execute_input": "2023-02-14T07:21:26.970328Z",
     "iopub.status.busy": "2023-02-14T07:21:26.969890Z",
     "iopub.status.idle": "2023-02-14T07:21:27.374341Z",
     "shell.execute_reply": "2023-02-14T07:21:27.373024Z"
    },
    "papermill": {
     "duration": 0.416753,
     "end_time": "2023-02-14T07:21:27.376761",
     "exception": false,
     "start_time": "2023-02-14T07:21:26.960008",
     "status": "completed"
    },
    "tags": []
   },
   "outputs": [
    {
     "data": {
      "image/png": "[encoded data removed]",
      "text/plain": [
       "<Figure size 720x576 with 1 Axes>"
      ]
     },
     "metadata": {
      "needs_background": "light"
     },
     "output_type": "display_data"
    }
   ],
   "source": [
    "plt.figure(figsize=(10,8))\n",
    "sns.barplot(x=df_grouped['Subscribers'], y=df_grouped['Category'],color='cornflowerblue',\n",
    "            order=df_grouped.sort_values('Subscribers', ascending=False).Category);"
   ]
  },
  {
   "cell_type": "markdown",
   "id": "c30bea2d",
   "metadata": {
    "papermill": {
     "duration": 0.00893,
     "end_time": "2023-02-14T07:21:27.395091",
     "exception": false,
     "start_time": "2023-02-14T07:21:27.386161",
     "status": "completed"
    },
    "tags": []
   },
   "source": [
    "## Number of video views"
   ]
  },
  {
   "cell_type": "code",
   "execution_count": 19,
   "id": "60cf80a8",
   "metadata": {
    "execution": {
     "iopub.execute_input": "2023-02-14T07:21:27.415610Z",
     "iopub.status.busy": "2023-02-14T07:21:27.414925Z",
     "iopub.status.idle": "2023-02-14T07:21:27.747301Z",
     "shell.execute_reply": "2023-02-14T07:21:27.745962Z"
    },
    "papermill": {
     "duration": 0.345997,
     "end_time": "2023-02-14T07:21:27.750173",
     "exception": false,
     "start_time": "2023-02-14T07:21:27.404176",
     "status": "completed"
    },
    "tags": []
   },
   "outputs": [
    {
     "data": {
      "image/png": "[encoded data removed]",
      "text/plain": [
       "<Figure size 720x576 with 1 Axes>"
      ]
     },
     "metadata": {
      "needs_background": "light"
     },
     "output_type": "display_data"
    }
   ],
   "source": [
    "plt.figure(figsize=(10,8))\n",
    "sns.barplot(x=df_grouped['Video Views'], y=df_grouped['Category'],color='cornflowerblue',\n",
    "            order=df_grouped.sort_values('Video Views', ascending=False).Category);"
   ]
  },
  {
   "cell_type": "markdown",
   "id": "467b0b6a",
   "metadata": {
    "papermill": {
     "duration": 0.009514,
     "end_time": "2023-02-14T07:21:27.770001",
     "exception": false,
     "start_time": "2023-02-14T07:21:27.760487",
     "status": "completed"
    },
    "tags": []
   },
   "source": [
    "## Video count"
   ]
  },
  {
   "cell_type": "code",
   "execution_count": 20,
   "id": "9465ead4",
   "metadata": {
    "execution": {
     "iopub.execute_input": "2023-02-14T07:21:27.792127Z",
     "iopub.status.busy": "2023-02-14T07:21:27.791650Z",
     "iopub.status.idle": "2023-02-14T07:21:28.123543Z",
     "shell.execute_reply": "2023-02-14T07:21:28.122387Z"
    },
    "papermill": {
     "duration": 0.346238,
     "end_time": "2023-02-14T07:21:28.126260",
     "exception": false,
     "start_time": "2023-02-14T07:21:27.780022",
     "status": "completed"
    },
    "tags": []
   },
   "outputs": [
    {
     "data": {
      "image/png": "[encoded data removed]",
      "text/plain": [
       "<Figure size 720x576 with 1 Axes>"
      ]
     },
     "metadata": {
      "needs_background": "light"
     },
     "output_type": "display_data"
    }
   ],
   "source": [
    "plt.figure(figsize=(10,8))\n",
    "sns.barplot(x=df_grouped['Video Count'], y=df_grouped['Category'],color='cornflowerblue',\n",
    "            order=df_grouped.sort_values('Video Count', ascending=False).Category);"
   ]
  },
  {
   "cell_type": "markdown",
   "id": "e4c26d3e",
   "metadata": {
    "papermill": {
     "duration": 0.00974,
     "end_time": "2023-02-14T07:21:28.146791",
     "exception": false,
     "start_time": "2023-02-14T07:21:28.137051",
     "status": "completed"
    },
    "tags": []
   },
   "source": [
    "## Number of views per video"
   ]
  },
  {
   "cell_type": "code",
   "execution_count": 21,
   "id": "e0e16d72",
   "metadata": {
    "execution": {
     "iopub.execute_input": "2023-02-14T07:21:28.168312Z",
     "iopub.status.busy": "2023-02-14T07:21:28.167859Z",
     "iopub.status.idle": "2023-02-14T07:21:28.513820Z",
     "shell.execute_reply": "2023-02-14T07:21:28.512497Z"
    },
    "papermill": {
     "duration": 0.35988,
     "end_time": "2023-02-14T07:21:28.516626",
     "exception": false,
     "start_time": "2023-02-14T07:21:28.156746",
     "status": "completed"
    },
    "tags": []
   },
   "outputs": [
    {
     "data": {
      "image/png": "[encoded data removed]",
      "text/plain": [
       "<Figure size 720x576 with 1 Axes>"
      ]
     },
     "metadata": {
      "needs_background": "light"
     },
     "output_type": "display_data"
    }
   ],
   "source": [
    "plt.figure(figsize=(10,8))\n",
    "sns.barplot(x=df_grouped['Views_per_video'], y=df_grouped['Category'],color='cornflowerblue',\n",
    "            order=df_grouped.sort_values('Views_per_video', ascending=False).Category);"
   ]
  },
  {
   "cell_type": "markdown",
   "id": "d35aa7d4",
   "metadata": {
    "papermill": {
     "duration": 0.010766,
     "end_time": "2023-02-14T07:21:28.538634",
     "exception": false,
     "start_time": "2023-02-14T07:21:28.527868",
     "status": "completed"
    },
    "tags": []
   },
   "source": [
    "## Number of started Youtube chanels per year"
   ]
  },
  {
   "cell_type": "code",
   "execution_count": 22,
   "id": "32fd9353",
   "metadata": {
    "execution": {
     "iopub.execute_input": "2023-02-14T07:21:28.562354Z",
     "iopub.status.busy": "2023-02-14T07:21:28.561913Z",
     "iopub.status.idle": "2023-02-14T07:21:28.844029Z",
     "shell.execute_reply": "2023-02-14T07:21:28.842556Z"
    },
    "papermill": {
     "duration": 0.296784,
     "end_time": "2023-02-14T07:21:28.846701",
     "exception": false,
     "start_time": "2023-02-14T07:21:28.549917",
     "status": "completed"
    },
    "tags": []
   },
   "outputs": [
    {
     "data": {
      "image/png": "[encoded data removed]",
      "text/plain": [
       "<Figure size 864x432 with 1 Axes>"
      ]
     },
     "metadata": {
      "needs_background": "light"
     },
     "output_type": "display_data"
    }
   ],
   "source": [
    "plt.figure(figsize=(12,6))\n",
    "sns.countplot(data = df, x='Started', color='cornflowerblue');"
   ]
  },
  {
   "cell_type": "markdown",
   "id": "c70d6380",
   "metadata": {
    "papermill": {
     "duration": 0.010453,
     "end_time": "2023-02-14T07:21:28.868125",
     "exception": false,
     "start_time": "2023-02-14T07:21:28.857672",
     "status": "completed"
    },
    "tags": []
   },
   "source": [
    "## Correlation"
   ]
  },
  {
   "cell_type": "code",
   "execution_count": 23,
   "id": "0d3f709d",
   "metadata": {
    "execution": {
     "iopub.execute_input": "2023-02-14T07:21:28.893234Z",
     "iopub.status.busy": "2023-02-14T07:21:28.891170Z",
     "iopub.status.idle": "2023-02-14T07:21:29.203111Z",
     "shell.execute_reply": "2023-02-14T07:21:29.202076Z"
    },
    "papermill": {
     "duration": 0.326841,
     "end_time": "2023-02-14T07:21:29.205808",
     "exception": false,
     "start_time": "2023-02-14T07:21:28.878967",
     "status": "completed"
    },
    "tags": []
   },
   "outputs": [
    {
     "data": {
      "image/png": "[encoded data removed]",
      "text/plain": [
       "<Figure size 576x360 with 2 Axes>"
      ]
     },
     "metadata": {
      "needs_background": "light"
     },
     "output_type": "display_data"
    }
   ],
   "source": [
    "plt.figure(figsize=(8,5))\n",
    "heatmap = sns.heatmap(df[['Subscribers', 'Video Views', 'Video Count', 'Views_per_video']].corr(),\n",
    "                      vmin=-1, vmax=1, annot=True)"
   ]
  },
  {
   "cell_type": "code",
   "execution_count": 24,
   "id": "4a652db9",
   "metadata": {
    "execution": {
     "iopub.execute_input": "2023-02-14T07:21:29.231215Z",
     "iopub.status.busy": "2023-02-14T07:21:29.230740Z",
     "iopub.status.idle": "2023-02-14T07:21:29.643399Z",
     "shell.execute_reply": "2023-02-14T07:21:29.642007Z"
    },
    "papermill": {
     "duration": 0.4287,
     "end_time": "2023-02-14T07:21:29.646206",
     "exception": false,
     "start_time": "2023-02-14T07:21:29.217506",
     "status": "completed"
    },
    "tags": []
   },
   "outputs": [
    {
     "data": {
      "image/png": "[encoded data removed]",
      "text/plain": [
       "<Figure size 720x432 with 1 Axes>"
      ]
     },
     "metadata": {
      "needs_background": "light"
     },
     "output_type": "display_data"
    }
   ],
   "source": [
    "plt.figure(figsize=(10,6))\n",
    "plt.ylim(0,50000000000)\n",
    "plt.xlim(10000000,100000000)\n",
    "sns.regplot(data=df, x='Subscribers', y='Video Views');"
   ]
  }
 ],
 "metadata": {
  "kernelspec": {
   "display_name": "Python 3",
   "language": "python",
   "name": "python3"
  },
  "language_info": {
   "codemirror_mode": {
    "name": "ipython",
    "version": 3
   },
   "file_extension": ".py",
   "mimetype": "text/x-python",
   "name": "python",
   "nbconvert_exporter": "python",
   "pygments_lexer": "ipython3",
   "version": "3.7.12"
  },
  "papermill": {
   "default_parameters": {},
   "duration": 14.470742,
   "end_time": "2023-02-14T07:21:30.480988",
   "environment_variables": {},
   "exception": null,
   "input_path": "__notebook__.ipynb",
   "output_path": "__notebook__.ipynb",
   "parameters": {},
   "start_time": "2023-02-14T07:21:16.010246",
   "version": "2.3.4"
  }
 },
 "nbformat": 4,
 "nbformat_minor": 5
}
